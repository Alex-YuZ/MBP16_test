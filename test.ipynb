{
 "cells": [
  {
   "cell_type": "code",
   "execution_count": 1,
   "metadata": {},
   "outputs": [
    {
     "name": "stdout",
     "output_type": "stream",
     "text": [
      "hello\n"
     ]
    }
   ],
   "source": [
    "print('hello')"
   ]
  },
  {
   "cell_type": "code",
   "execution_count": null,
   "metadata": {},
   "outputs": [],
   "source": [
    "def fib(n):\n",
    "    \"\"\"_generate fibonacci numbers_\n",
    "\n",
    "    Args:\n",
    "        n (_int_): _give any integer_\n",
    "\n",
    "    Returns:\n",
    "        _int_: _fibonacci number_\n",
    "    \"\"\"\n",
    "    if n  in [1, 2]:\n",
    "        return 1\n",
    "    else:\n",
    "        return fib(n-1) + fib(n-2)\n",
    "    \n",
    "    \n",
    "def print_fib(n):\n",
    "    \"\"\"_print a series of fibonacci numbers_\n",
    "\n",
    "    Args:\n",
    "        n (_int_): _the number of fibonacci numbers you want to generate_\n",
    "    \"\"\"\n",
    "    for i in range(1, n+1):\n",
    "        print(fib(i))\n",
    "        \n",
    "    return \"===Fibonacci Numbers Generated===\""
   ]
  }
 ],
 "metadata": {
  "kernelspec": {
   "display_name": "Python 3.9.12 ('base')",
   "language": "python",
   "name": "python3"
  },
  "language_info": {
   "codemirror_mode": {
    "name": "ipython",
    "version": 3
   },
   "file_extension": ".py",
   "mimetype": "text/x-python",
   "name": "python",
   "nbconvert_exporter": "python",
   "pygments_lexer": "ipython3",
   "version": "3.9.12"
  },
  "orig_nbformat": 4,
  "vscode": {
   "interpreter": {
    "hash": "0b6dff90716dad88f27f8f98ce06b4eeaed8ba544ae1cfef9f1fb2d1c0425084"
   }
  }
 },
 "nbformat": 4,
 "nbformat_minor": 2
}
